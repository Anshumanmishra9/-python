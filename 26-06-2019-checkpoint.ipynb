{
 "cells": [
  {
   "cell_type": "code",
   "execution_count": 1,
   "metadata": {},
   "outputs": [
    {
     "name": "stdout",
     "output_type": "stream",
     "text": [
      "P y t h o n\n"
     ]
    }
   ],
   "source": [
    "str='Python'\n",
    "print(' '.join(str))"
   ]
  },
  {
   "cell_type": "code",
   "execution_count": 2,
   "metadata": {},
   "outputs": [
    {
     "name": "stdout",
     "output_type": "stream",
     "text": [
      "Python,Programming,Easy\n"
     ]
    }
   ],
   "source": [
    "print(','.join(['Python','Programming','Easy']))"
   ]
  },
  {
   "cell_type": "code",
   "execution_count": 4,
   "metadata": {},
   "outputs": [
    {
     "name": "stdout",
     "output_type": "stream",
     "text": [
      ",\n"
     ]
    }
   ],
   "source": [
    "lst=['','']\n",
    "print(','.join(lst))"
   ]
  },
  {
   "cell_type": "code",
   "execution_count": 5,
   "metadata": {},
   "outputs": [
    {
     "name": "stdout",
     "output_type": "stream",
     "text": [
      "['Python,', 'Programming,', 'is,', 'easy,', 'to,', 'learn']\n",
      "['Python, Progr', 'mming, is, e', 'sy, to, le', 'rn']\n",
      "['Python', ' Programming', ' is', ' easy', ' to', ' learn']\n"
     ]
    }
   ],
   "source": [
    "s='Python, Programming, is, easy, to, learn'\n",
    "print(s.split())\n",
    "print(s.split('a'))\n",
    "print(s.split(','))"
   ]
  },
  {
   "cell_type": "code",
   "execution_count": 6,
   "metadata": {},
   "outputs": [
    {
     "name": "stdout",
     "output_type": "stream",
     "text": [
      "['Python', 'Programming', 'is', 'easy', 'to', 'learn']\n",
      "2\n"
     ]
    }
   ],
   "source": [
    "s='Python Programming is easy to learn'\n",
    "lst=s.split()\n",
    "print(lst)\n",
    "print(lst.index('is'))"
   ]
  },
  {
   "cell_type": "code",
   "execution_count": 7,
   "metadata": {},
   "outputs": [
    {
     "name": "stdout",
     "output_type": "stream",
     "text": [
      "Python Proapplicationmming\n"
     ]
    }
   ],
   "source": [
    "s='Python Programming'\n",
    "print(s.replace('gra','application'))"
   ]
  },
  {
   "cell_type": "code",
   "execution_count": 8,
   "metadata": {},
   "outputs": [
    {
     "name": "stdout",
     "output_type": "stream",
     "text": [
      "('Python', 'Programming', 1989, 2019, 'Machine Learning', 'AI')\n",
      "(1, 2, 3, 4, 5)\n"
     ]
    }
   ],
   "source": [
    "t1=('Python','Programming',1989,2019,'Machine Learning','AI')\n",
    "t2=(1,2,3,4,5)\n",
    "print(t1)\n",
    "print(t2)"
   ]
  },
  {
   "cell_type": "code",
   "execution_count": 9,
   "metadata": {},
   "outputs": [
    {
     "name": "stdout",
     "output_type": "stream",
     "text": [
      "t1[0] =  Python\n",
      "t1[1] =  Programming\n",
      "t1[-1] =  AI\n",
      "t1[1:4] =  ('Programming', 1989, 2019)\n",
      "t1[2:-2] =  (1989, 2019)\n"
     ]
    }
   ],
   "source": [
    "t1=('Python','Programming',1989,2019,'Machine Learning','AI')\n",
    "print('t1[0] = ',t1[0])\n",
    "print('t1[1] = ',t1[1])\n",
    "print('t1[-1] = ',t1[-1])\n",
    "print('t1[1:4] = ',t1[1:4])\n",
    "print('t1[2:-2] = ',t1[2:-2])"
   ]
  },
  {
   "cell_type": "code",
   "execution_count": 10,
   "metadata": {},
   "outputs": [
    {
     "name": "stdout",
     "output_type": "stream",
     "text": [
      "('Python', 'Programming', 1989, 2019, 'Machine Learning', 'AI')\n"
     ]
    },
    {
     "ename": "TypeError",
     "evalue": "'tuple' object doesn't support item deletion",
     "output_type": "error",
     "traceback": [
      "\u001b[1;31m---------------------------------------------------------------------------\u001b[0m",
      "\u001b[1;31mTypeError\u001b[0m                                 Traceback (most recent call last)",
      "\u001b[1;32m<ipython-input-10-a1547e6b0a1f>\u001b[0m in \u001b[0;36m<module>\u001b[1;34m\u001b[0m\n\u001b[0;32m      2\u001b[0m \u001b[0mprint\u001b[0m\u001b[1;33m(\u001b[0m\u001b[0mt1\u001b[0m\u001b[1;33m)\u001b[0m\u001b[1;33m\u001b[0m\u001b[1;33m\u001b[0m\u001b[0m\n\u001b[0;32m      3\u001b[0m \u001b[1;31m#t1[2]=2018\u001b[0m\u001b[1;33m\u001b[0m\u001b[1;33m\u001b[0m\u001b[1;33m\u001b[0m\u001b[0m\n\u001b[1;32m----> 4\u001b[1;33m \u001b[1;32mdel\u001b[0m \u001b[0mt1\u001b[0m\u001b[1;33m[\u001b[0m\u001b[1;36m2\u001b[0m\u001b[1;33m]\u001b[0m\u001b[1;33m\u001b[0m\u001b[1;33m\u001b[0m\u001b[0m\n\u001b[0m",
      "\u001b[1;31mTypeError\u001b[0m: 'tuple' object doesn't support item deletion"
     ]
    }
   ],
   "source": [
    "t1=('Python','Programming',1989,2019,'Machine Learning','AI')\n",
    "print(t1)\n",
    "#t1[2]=2018\n",
    "del t1[2]"
   ]
  },
  {
   "cell_type": "code",
   "execution_count": 11,
   "metadata": {},
   "outputs": [
    {
     "name": "stdout",
     "output_type": "stream",
     "text": [
      "('Python', 'Programming', 1989, 2019, 'Machine Learning', 'AI')\n"
     ]
    },
    {
     "ename": "NameError",
     "evalue": "name 't1' is not defined",
     "output_type": "error",
     "traceback": [
      "\u001b[1;31m---------------------------------------------------------------------------\u001b[0m",
      "\u001b[1;31mNameError\u001b[0m                                 Traceback (most recent call last)",
      "\u001b[1;32m<ipython-input-11-fdf5150a9863>\u001b[0m in \u001b[0;36m<module>\u001b[1;34m\u001b[0m\n\u001b[0;32m      2\u001b[0m \u001b[0mprint\u001b[0m\u001b[1;33m(\u001b[0m\u001b[0mt1\u001b[0m\u001b[1;33m)\u001b[0m\u001b[1;33m\u001b[0m\u001b[1;33m\u001b[0m\u001b[0m\n\u001b[0;32m      3\u001b[0m \u001b[1;32mdel\u001b[0m \u001b[0mt1\u001b[0m\u001b[1;33m\u001b[0m\u001b[1;33m\u001b[0m\u001b[0m\n\u001b[1;32m----> 4\u001b[1;33m \u001b[0mprint\u001b[0m\u001b[1;33m(\u001b[0m\u001b[0mt1\u001b[0m\u001b[1;33m)\u001b[0m\u001b[1;33m\u001b[0m\u001b[1;33m\u001b[0m\u001b[0m\n\u001b[0m",
      "\u001b[1;31mNameError\u001b[0m: name 't1' is not defined"
     ]
    }
   ],
   "source": [
    "t1=('Python','Programming',1989,2019,'Machine Learning','AI')\n",
    "print(t1)\n",
    "del t1\n",
    "print(t1)"
   ]
  },
  {
   "cell_type": "code",
   "execution_count": 12,
   "metadata": {},
   "outputs": [
    {
     "name": "stdout",
     "output_type": "stream",
     "text": [
      "('Python', 'Programming', 1989, 2019, 'ML', 'AI')\n"
     ]
    }
   ],
   "source": [
    "t1=('Python','Programming')\n",
    "t2=(1989,2019,'ML','AI')\n",
    "t3=t1+t2\n",
    "print(t3)"
   ]
  },
  {
   "cell_type": "code",
   "execution_count": 13,
   "metadata": {},
   "outputs": [
    {
     "name": "stdout",
     "output_type": "stream",
     "text": [
      "6\n"
     ]
    }
   ],
   "source": [
    "t1=('Python','Programming',1989,2019,'Machine Learning','AI')\n",
    "print(len(t1))"
   ]
  },
  {
   "cell_type": "code",
   "execution_count": 14,
   "metadata": {},
   "outputs": [
    {
     "name": "stdout",
     "output_type": "stream",
     "text": [
      "25\n"
     ]
    },
    {
     "ename": "TypeError",
     "evalue": "'>' not supported between instances of 'int' and 'str'",
     "output_type": "error",
     "traceback": [
      "\u001b[1;31m---------------------------------------------------------------------------\u001b[0m",
      "\u001b[1;31mTypeError\u001b[0m                                 Traceback (most recent call last)",
      "\u001b[1;32m<ipython-input-14-ce71302d2c66>\u001b[0m in \u001b[0;36m<module>\u001b[1;34m\u001b[0m\n\u001b[0;32m      2\u001b[0m \u001b[0mt2\u001b[0m\u001b[1;33m=\u001b[0m\u001b[1;33m(\u001b[0m\u001b[1;34m'Python'\u001b[0m\u001b[1;33m,\u001b[0m\u001b[1;36m12\u001b[0m\u001b[1;33m,\u001b[0m\u001b[1;36m1\u001b[0m\u001b[1;33m,\u001b[0m\u001b[1;34m'Programming'\u001b[0m\u001b[1;33m)\u001b[0m\u001b[1;33m\u001b[0m\u001b[1;33m\u001b[0m\u001b[0m\n\u001b[0;32m      3\u001b[0m \u001b[0mprint\u001b[0m\u001b[1;33m(\u001b[0m\u001b[0mmax\u001b[0m\u001b[1;33m(\u001b[0m\u001b[0mt1\u001b[0m\u001b[1;33m)\u001b[0m\u001b[1;33m)\u001b[0m\u001b[1;33m\u001b[0m\u001b[1;33m\u001b[0m\u001b[0m\n\u001b[1;32m----> 4\u001b[1;33m \u001b[0mprint\u001b[0m\u001b[1;33m(\u001b[0m\u001b[0mmax\u001b[0m\u001b[1;33m(\u001b[0m\u001b[0mt2\u001b[0m\u001b[1;33m)\u001b[0m\u001b[1;33m)\u001b[0m\u001b[1;33m\u001b[0m\u001b[1;33m\u001b[0m\u001b[0m\n\u001b[0m",
      "\u001b[1;31mTypeError\u001b[0m: '>' not supported between instances of 'int' and 'str'"
     ]
    }
   ],
   "source": [
    "t1=(12,15,19,25,6,18)\n",
    "t2=('Python',12,1,'Programming')\n",
    "print(max(t1))\n",
    "print(max(t2))"
   ]
  },
  {
   "cell_type": "code",
   "execution_count": 15,
   "metadata": {},
   "outputs": [
    {
     "name": "stdout",
     "output_type": "stream",
     "text": [
      "6\n"
     ]
    }
   ],
   "source": [
    "t1=(12,15,19,25,6,18)\n",
    "print(min(t1))"
   ]
  },
  {
   "cell_type": "code",
   "execution_count": 16,
   "metadata": {},
   "outputs": [
    {
     "name": "stdout",
     "output_type": "stream",
     "text": [
      "(1, 2, 3, 4, 5)\n",
      "(1, 2, 3, 4, 5)\n"
     ]
    },
    {
     "ename": "NameError",
     "evalue": "name 'cmp' is not defined",
     "output_type": "error",
     "traceback": [
      "\u001b[1;31m---------------------------------------------------------------------------\u001b[0m",
      "\u001b[1;31mNameError\u001b[0m                                 Traceback (most recent call last)",
      "\u001b[1;32m<ipython-input-16-660e0ff55bf9>\u001b[0m in \u001b[0;36m<module>\u001b[1;34m\u001b[0m\n\u001b[0;32m      3\u001b[0m \u001b[0mprint\u001b[0m\u001b[1;33m(\u001b[0m\u001b[0mt1\u001b[0m\u001b[1;33m)\u001b[0m\u001b[1;33m\u001b[0m\u001b[1;33m\u001b[0m\u001b[0m\n\u001b[0;32m      4\u001b[0m \u001b[0mprint\u001b[0m\u001b[1;33m(\u001b[0m\u001b[0mt2\u001b[0m\u001b[1;33m)\u001b[0m\u001b[1;33m\u001b[0m\u001b[1;33m\u001b[0m\u001b[0m\n\u001b[1;32m----> 5\u001b[1;33m \u001b[0ma\u001b[0m\u001b[1;33m=\u001b[0m\u001b[0mcmp\u001b[0m\u001b[1;33m(\u001b[0m\u001b[0mt1\u001b[0m\u001b[1;33m,\u001b[0m\u001b[0mt2\u001b[0m\u001b[1;33m)\u001b[0m\u001b[1;33m\u001b[0m\u001b[1;33m\u001b[0m\u001b[0m\n\u001b[0m\u001b[0;32m      6\u001b[0m \u001b[0mprint\u001b[0m\u001b[1;33m(\u001b[0m\u001b[0ma\u001b[0m\u001b[1;33m)\u001b[0m\u001b[1;33m\u001b[0m\u001b[1;33m\u001b[0m\u001b[0m\n",
      "\u001b[1;31mNameError\u001b[0m: name 'cmp' is not defined"
     ]
    }
   ],
   "source": [
    "t1=(1,2,3,4,5)\n",
    "t2=(1,2,3,4,5)\n",
    "print(t1)\n",
    "print(t2)\n",
    "a=cmp(t1,t2)\n",
    "print(a)"
   ]
  },
  {
   "cell_type": "code",
   "execution_count": 17,
   "metadata": {},
   "outputs": [
    {
     "name": "stdout",
     "output_type": "stream",
     "text": [
      "['Python', 'Programming', 1989, 2019, 'Machine Learning', 'AI']\n",
      "('Python', 'Programming', 1989, 2019, 'Machine Learning', 'AI')\n"
     ]
    }
   ],
   "source": [
    "list1=['Python','Programming',1989,2019,'Machine Learning','AI']\n",
    "print(list1)\n",
    "tuple1=tuple(list1)\n",
    "print(tuple1)"
   ]
  },
  {
   "cell_type": "code",
   "execution_count": 20,
   "metadata": {},
   "outputs": [
    {
     "name": "stdout",
     "output_type": "stream",
     "text": [
      "user1[Name] =  Anshuman Mishra\n",
      "user1[EmailID] =  mnishraanshuman86@gmail.com\n",
      "user1[Age] =  18\n",
      "user1[MobileNumber] =  9999999999\n"
     ]
    }
   ],
   "source": [
    "user1 = {'Name':'Anshuman Mishra','Age':'18','EmailID':'mnishraanshuman86@gmail.com','MobileNumber':'9999999999'}\n",
    "print('user1[Name] = ',user1['Name'])\n",
    "print('user1[EmailID] = ',user1['EmailID'])\n",
    "print('user1[Age] = ',user1['Age'])\n",
    "print('user1[MobileNumber] = ',user1['MobileNumber'])"
   ]
  },
  {
   "cell_type": "code",
   "execution_count": 21,
   "metadata": {},
   "outputs": [
    {
     "name": "stdout",
     "output_type": "stream",
     "text": [
      "mishraanshuman86@gmail.com\n",
      "mishraanshuman86@gmail.com\n",
      "Hyderabad\n"
     ]
    }
   ],
   "source": [
    "user1 = {'Name':'Anshuman Mishra','Age':'18','EmailID':'mishraanshuman86@gmail.com','MobileNumber':'9999999999'}\n",
    "print(user1['EmailID'])\n",
    "#update the dict object data\n",
    "user1['EmailID'] = 'mishraanshuman86@gmail.com'\n",
    "print(user1['EmailID'])\n",
    "user1['Address'] = 'Hyderabad' # New entry for an item in dict object\n",
    "print(user1['Address'])"
   ]
  },
  {
   "cell_type": "code",
   "execution_count": 23,
   "metadata": {},
   "outputs": [
    {
     "name": "stdout",
     "output_type": "stream",
     "text": [
      "mishraanshuman86@gmail.com\n",
      "mishraanshuman86@gmail.com\n",
      "Hyderabad\n"
     ]
    }
   ],
   "source": [
    "user1 = {'Name':'Anshuman Mishra','Age':'18','EmailID':'mishraanshuman86@gmail.com','MobileNumber':'9999999999'}\n",
    "print(user1['EmailID'])\n",
    "#update the dict object data\n",
    "user1['EmailID'] = 'mishraanshuman86@gmail.com'\n",
    "print(user1['EmailID'])\n",
    "user1['Address'] = 'Hyderabad' # New entry for an item in dict object\n",
    "print(user1['Address'])\n",
    "user1 = {'Name':'Akash','Age':'18','EmailID':'akash@gmail.com','MobileNumber':'9999999999'}\n",
    "del user1['EmailID']\n",
    "user1.clear()\n",
    "del user1"
   ]
  },
  {
   "cell_type": "code",
   "execution_count": 24,
   "metadata": {},
   "outputs": [],
   "source": [
    "user1 = {'Name':'Akash','Age':'18','EmailID':'akash@gmail.com','MobileNumber':'9999999999'}\n",
    "del user1['EmailID']\n",
    "user1.clear()\n",
    "del user1"
   ]
  },
  {
   "cell_type": "code",
   "execution_count": 25,
   "metadata": {},
   "outputs": [
    {
     "name": "stdout",
     "output_type": "stream",
     "text": [
      "Python Programming\n"
     ]
    }
   ],
   "source": [
    "lst=['Python','Programming']\n",
    "print('%s %s'%(lst[0],lst[1]))"
   ]
  },
  {
   "cell_type": "code",
   "execution_count": 26,
   "metadata": {},
   "outputs": [
    {
     "name": "stdout",
     "output_type": "stream",
     "text": [
      "Python Programming\n"
     ]
    }
   ],
   "source": [
    "lst=['Python','Programming']\n",
    "print('{0} {1}'.format(lst[0],lst[1]))"
   ]
  },
  {
   "cell_type": "code",
   "execution_count": 27,
   "metadata": {},
   "outputs": [
    {
     "name": "stdout",
     "output_type": "stream",
     "text": [
      "Contact Anshuman added\n",
      "Contact Mishra added\n",
      "contact Anshuman already exists\n"
     ]
    }
   ],
   "source": [
    "contacts = {}\n",
    "def addcontact(name,phone):\n",
    "  #verify that the contact doesn't already exist\n",
    "  if name not in contacts:\n",
    "    contacts[name] = phone\n",
    "    print('Contact %s added' % name)\n",
    "  else:\n",
    "    print('contact %s already exists' % name)\n",
    "  return\n",
    "addcontact('Anshuman',9521543154)\n",
    "addcontact('Mishra',9546563256)\n",
    "addcontact('Anshuman',9562123652)"
   ]
  },
  {
   "cell_type": "code",
   "execution_count": 28,
   "metadata": {},
   "outputs": [
    {
     "name": "stdout",
     "output_type": "stream",
     "text": [
      "Anshuman :  9521543154\n",
      "Suraj does not exists\n",
      "Mishra :  9546563256\n"
     ]
    }
   ],
   "source": [
    "#Search for a particular contact from Contact List\n",
    "def searchcontact(name):\n",
    "  if name in contacts:\n",
    "    print(name, ': ' ,contacts[name])\n",
    "  else:\n",
    "    print('%s does not exists' % name)\n",
    "  return\n",
    "searchcontact('Anshuman')\n",
    "searchcontact('Suraj')\n",
    "searchcontact('Mishra')"
   ]
  },
  {
   "cell_type": "code",
   "execution_count": 29,
   "metadata": {},
   "outputs": [
    {
     "name": "stdout",
     "output_type": "stream",
     "text": [
      "2 Conatcts added successfully\n"
     ]
    }
   ],
   "source": [
    "#New Contacts is given as a dictionary\n",
    "#Merge new contact  with existing contacts list\n",
    "def importcontacts(newcontacts):\n",
    "  contacts.update(newcontacts)\n",
    "  print(len(newcontacts.keys()),'Conatcts added successfully')\n",
    "  return\n",
    "newcontacts={'Dinesh':9545254362,'Anand':8545416524}\n",
    "importcontacts(newcontacts)"
   ]
  },
  {
   "cell_type": "code",
   "execution_count": 30,
   "metadata": {},
   "outputs": [
    {
     "name": "stdout",
     "output_type": "stream",
     "text": [
      "{'Anshuman': 9521543154, 'Mishra': 9546563256, 'Dinesh': 9545254362, 'Anand': 8545416524}\n"
     ]
    }
   ],
   "source": [
    "print(contacts)"
   ]
  },
  {
   "cell_type": "code",
   "execution_count": 31,
   "metadata": {},
   "outputs": [
    {
     "name": "stdout",
     "output_type": "stream",
     "text": [
      "Swadeep does not exists in the contacts\n",
      "Shashank does not exists in the contacts\n"
     ]
    }
   ],
   "source": [
    "#Delete a conatct from contacts list\n",
    "def deletecontact(name):\n",
    "  if name in contacts:\n",
    "    del contacts[name]\n",
    "    print(name,'is deleted from the contacts')\n",
    "  else:\n",
    "    print(name,'does not exists in the contacts')\n",
    "  return\n",
    "deletecontact('Swadeep')\n",
    "deletecontact('Shashank')"
   ]
  },
  {
   "cell_type": "code",
   "execution_count": 32,
   "metadata": {},
   "outputs": [
    {
     "name": "stdout",
     "output_type": "stream",
     "text": [
      "Anand Updated with new Phone number\n",
      "Suraj Mishra Not exists in contacts\n"
     ]
    }
   ],
   "source": [
    "def updatecontact(name,phone):\n",
    "  if name in contacts:\n",
    "    contacts[name] = phone\n",
    "    print(name,'Updated with new Phone number')\n",
    "  else:\n",
    "    print(name,'Not exists in contacts')\n",
    "  return\n",
    "updatecontact('Anand',9852415846)\n",
    "updatecontact('Suraj Mishra',9865456354)"
   ]
  },
  {
   "cell_type": "code",
   "execution_count": 33,
   "metadata": {},
   "outputs": [
    {
     "data": {
      "text/plain": [
       "123"
      ]
     },
     "execution_count": 33,
     "metadata": {},
     "output_type": "execute_result"
    }
   ],
   "source": [
    "from math import floor as f1\n",
    "f1(123.456)"
   ]
  },
  {
   "cell_type": "code",
   "execution_count": 34,
   "metadata": {},
   "outputs": [
    {
     "data": {
      "text/plain": [
       "120"
      ]
     },
     "execution_count": 34,
     "metadata": {},
     "output_type": "execute_result"
    }
   ],
   "source": [
    "from math import factorial as fact\n",
    "fact(5)"
   ]
  },
  {
   "cell_type": "code",
   "execution_count": 35,
   "metadata": {},
   "outputs": [
    {
     "data": {
      "text/plain": [
       "120"
      ]
     },
     "execution_count": 35,
     "metadata": {},
     "output_type": "execute_result"
    }
   ],
   "source": [
    "import math\n",
    "math.factorial(5)"
   ]
  },
  {
   "cell_type": "code",
   "execution_count": 36,
   "metadata": {},
   "outputs": [
    {
     "name": "stdout",
     "output_type": "stream",
     "text": [
      "85 72 90 23 21 63 75 28 44 93 "
     ]
    }
   ],
   "source": [
    "  for i in range(0,n):\n",
    "    print(random.randint(lb,ub),end=' ')\n",
    "  return\n",
    "generaterandomnumbers(10,12,120)"
   ]
  },
  {
   "cell_type": "code",
   "execution_count": 37,
   "metadata": {},
   "outputs": [
    {
     "name": "stdout",
     "output_type": "stream",
     "text": [
      "The ceil of 2.3 is : 3\n"
     ]
    }
   ],
   "source": [
    "# returning the ceil of 2.3 \n",
    "import math\n",
    "a = 2.3\n",
    "print (\"The ceil of 2.3 is : \", end=\"\") \n",
    "print (math.ceil(a))"
   ]
  },
  {
   "cell_type": "code",
   "execution_count": 38,
   "metadata": {},
   "outputs": [
    {
     "name": "stdout",
     "output_type": "stream",
     "text": [
      "The floor of 2.3 is : 2\n"
     ]
    }
   ],
   "source": [
    "# returning the floor of 2.3\n",
    "import math \n",
    "a = 2.3\n",
    "print (\"The floor of 2.3 is : \", end=\"\") \n",
    "print (math.floor(a))"
   ]
  },
  {
   "cell_type": "code",
   "execution_count": 39,
   "metadata": {},
   "outputs": [
    {
     "name": "stdout",
     "output_type": "stream",
     "text": [
      "The absolute value of -15 is : 15.0\n"
     ]
    }
   ],
   "source": [
    "#returning the absolute value\n",
    "import math \n",
    "a = -15\n",
    "print (\"The absolute value of -15 is : \", end=\"\") \n",
    "print (math.fabs(a))"
   ]
  },
  {
   "cell_type": "code",
   "execution_count": 40,
   "metadata": {},
   "outputs": [
    {
     "name": "stdout",
     "output_type": "stream",
     "text": [
      "the factorial of 3 is :  6\n"
     ]
    }
   ],
   "source": [
    "#returning the factorial\n",
    "import math\n",
    "a = 3\n",
    "print(\"the factorial of 3 is : \", end=\" \")\n",
    "print (math.factorial(a))#returning the copysigned value "
   ]
  },
  {
   "cell_type": "code",
   "execution_count": 41,
   "metadata": {},
   "outputs": [
    {
     "name": "stdout",
     "output_type": "stream",
     "text": [
      "the factorial of -2.3 and 99 is :  2.3\n"
     ]
    }
   ],
   "source": [
    "#returning the copysigned value \n",
    "import math\n",
    "a = -2.3\n",
    "b = 99\n",
    "print(\"the factorial of -2.3 and 99 is : \", end=\" \")\n",
    "print(math.copysign(-2.3,99))"
   ]
  },
  {
   "cell_type": "code",
   "execution_count": 42,
   "metadata": {},
   "outputs": [
    {
     "name": "stdout",
     "output_type": "stream",
     "text": [
      "the gcd of 45 and 3 is :  3\n"
     ]
    }
   ],
   "source": [
    "#returning the gcd\n",
    "import math\n",
    "a = 45\n",
    "b = 3\n",
    "print(\"the gcd of 45 and 3 is : \", end=\" \")\n",
    "print(math.gcd(45,3))"
   ]
  },
  {
   "cell_type": "code",
   "execution_count": 43,
   "metadata": {},
   "outputs": [
    {
     "name": "stdout",
     "output_type": "stream",
     "text": [
      "given number is :  True\n"
     ]
    }
   ],
   "source": [
    "import math\n",
    "a = 23\n",
    "print(\"given number is : \", end=\" \")\n",
    "print(math.isfinite(a))"
   ]
  },
  {
   "cell_type": "code",
   "execution_count": 44,
   "metadata": {},
   "outputs": [
    {
     "name": "stdout",
     "output_type": "stream",
     "text": [
      "the mod of 3.58 is :  (0.5800000000000001, 3.0)\n"
     ]
    }
   ],
   "source": [
    "import math\n",
    "a = 3.58\n",
    "print(\"the mod of 3.58 is : \",end=\" \")\n",
    "print(math.modf(a))"
   ]
  },
  {
   "cell_type": "code",
   "execution_count": 45,
   "metadata": {},
   "outputs": [
    {
     "name": "stdout",
     "output_type": "stream",
     "text": [
      "the exp of 2.99 is :  19.88568249156473\n"
     ]
    }
   ],
   "source": [
    "import math\n",
    "a = 2.99\n",
    "print(\"the exp of 2.99 is : \",end=\" \")\n",
    "print(math.exp(a))"
   ]
  },
  {
   "cell_type": "code",
   "execution_count": 49,
   "metadata": {},
   "outputs": [
    {
     "name": "stdout",
     "output_type": "stream",
     "text": [
      "File is created and data is written\n"
     ]
    }
   ],
   "source": [
    "def createFile(filename):\n",
    "   f = open(filename,\"w\")\n",
    "   for i in range(10):\n",
    "       f.write(\"This is %d line\\n\" % i)\n",
    "   print(\"File is created and data is written\")\n",
    "   f.close()\n",
    "   return\n",
    "createFile(\"File1.txt\")"
   ]
  },
  {
   "cell_type": "code",
   "execution_count": 48,
   "metadata": {},
   "outputs": [
    {
     "name": "stdout",
     "output_type": "stream",
     "text": [
      "This is 0 line\n",
      "This is 1 line\n",
      "This is 2 line\n",
      "This is 3 line\n",
      "This is 4 line\n",
      "This is 5 line\n",
      "This is 6 line\n",
      "This is 7 line\n",
      "This is 8 line\n",
      "This is 9 line\n",
      "\n"
     ]
    }
   ],
   "source": [
    "def readFile(filename):\n",
    "   f=open(filename,\"r\")\n",
    "   if f.mode == \"r\":\n",
    "       x=f.read()\n",
    "       print(x)\n",
    "   f.close()\n",
    "   return\n",
    "readFile(\"File1.txt\")"
   ]
  },
  {
   "cell_type": "code",
   "execution_count": 50,
   "metadata": {},
   "outputs": [
    {
     "name": "stdout",
     "output_type": "stream",
     "text": [
      "0\n"
     ]
    }
   ],
   "source": [
    "def dataAnalysisWordCount(filename,word):\n",
    "   f = open(filename,\"r\")\n",
    "   if f.mode == \"r\":\n",
    "       x = f.read()\n",
    "       lst = x.split()\n",
    "   cnt = lst.count(word)\n",
    "   return cnt\n",
    "print(dataAnalysisWordCount(\"File1.txt\",\"Test\"))"
   ]
  },
  {
   "cell_type": "code",
   "execution_count": 51,
   "metadata": {},
   "outputs": [
    {
     "name": "stdout",
     "output_type": "stream",
     "text": [
      "150\n"
     ]
    }
   ],
   "source": [
    "def countCharecter(filename):\n",
    "    f=open(filename,\"r\")\n",
    "    if f.mode==\"r\":\n",
    "        x=f.read()\n",
    "        lst=list(x)\n",
    "    return len(lst)\n",
    "print(countCharecter(\"File1.txt\"))"
   ]
  },
  {
   "cell_type": "code",
   "execution_count": 52,
   "metadata": {},
   "outputs": [
    {
     "data": {
      "text/plain": [
       "10"
      ]
     },
     "execution_count": 52,
     "metadata": {},
     "output_type": "execute_result"
    }
   ],
   "source": [
    "def uppercount(filename):\n",
    "    cntupper=0\n",
    "    f=open(filename,\"r\")\n",
    "    if f.mode ==\"r\":\n",
    "        x=f.read()\n",
    "        lst=list(x)\n",
    "    for i in lst:\n",
    "        if i.isupper():\n",
    "            cntupper+=1\n",
    "    return cntupper\n",
    "uppercount(\"File1.txt\") "
   ]
  },
  {
   "cell_type": "code",
   "execution_count": 71,
   "metadata": {},
   "outputs": [
    {
     "data": {
      "text/plain": [
       "11"
      ]
     },
     "execution_count": 71,
     "metadata": {},
     "output_type": "execute_result"
    }
   ],
   "source": [
    "def linecount(filename):\n",
    "    line=0\n",
    "    f=open(filename,\"r\")\n",
    "    if f.mode ==\"r\":\n",
    "        x=f.read()\n",
    "        lst=x.split(\"\\n\")\n",
    "    return len(lst)\n",
    "linecount(\"File1.txt\")"
   ]
  },
  {
   "cell_type": "code",
   "execution_count": 77,
   "metadata": {},
   "outputs": [
    {
     "ename": "TypeError",
     "evalue": "'str' object is not callable",
     "output_type": "error",
     "traceback": [
      "\u001b[1;31m---------------------------------------------------------------------------\u001b[0m",
      "\u001b[1;31mTypeError\u001b[0m                                 Traceback (most recent call last)",
      "\u001b[1;32m<ipython-input-77-3f3f93046e50>\u001b[0m in \u001b[0;36m<module>\u001b[1;34m\u001b[0m\n\u001b[0;32m      6\u001b[0m         \u001b[1;32mreturn\u001b[0m \u001b[1;32mTrue\u001b[0m\u001b[1;33m\u001b[0m\u001b[1;33m\u001b[0m\u001b[0m\n\u001b[0;32m      7\u001b[0m     \u001b[1;32mreturn\u001b[0m \u001b[1;32mFalse\u001b[0m\u001b[1;33m\u001b[0m\u001b[1;33m\u001b[0m\u001b[0m\n\u001b[1;32m----> 8\u001b[1;33m \u001b[0mprint\u001b[0m\u001b[1;33m(\u001b[0m\u001b[0mphonenumbervalidate\u001b[0m\u001b[1;33m(\u001b[0m\u001b[1;36m987654321\u001b[0m\u001b[1;33m)\u001b[0m\u001b[1;33m)\u001b[0m\u001b[1;33m\u001b[0m\u001b[1;33m\u001b[0m\u001b[0m\n\u001b[0m",
      "\u001b[1;32m<ipython-input-77-3f3f93046e50>\u001b[0m in \u001b[0;36mphonenumbervalidate\u001b[1;34m(phone)\u001b[0m\n\u001b[0;32m      2\u001b[0m \u001b[1;32mdef\u001b[0m \u001b[0mphonenumbervalidate\u001b[0m\u001b[1;33m(\u001b[0m\u001b[0mphone\u001b[0m\u001b[1;33m)\u001b[0m\u001b[1;33m:\u001b[0m\u001b[1;33m\u001b[0m\u001b[1;33m\u001b[0m\u001b[0m\n\u001b[0;32m      3\u001b[0m     \u001b[0mpattern\u001b[0m \u001b[1;33m=\u001b[0m\u001b[1;34m'^[6-9][0-9]{9}$'\u001b[0m\u001b[1;33m\u001b[0m\u001b[1;33m\u001b[0m\u001b[0m\n\u001b[1;32m----> 4\u001b[1;33m     \u001b[0mphone\u001b[0m\u001b[1;33m=\u001b[0m\u001b[0mstr\u001b[0m\u001b[1;33m(\u001b[0m\u001b[0mphone\u001b[0m\u001b[1;33m)\u001b[0m\u001b[1;33m\u001b[0m\u001b[1;33m\u001b[0m\u001b[0m\n\u001b[0m\u001b[0;32m      5\u001b[0m     \u001b[1;32mif\u001b[0m \u001b[0mre\u001b[0m\u001b[1;33m.\u001b[0m\u001b[0mmatch1\u001b[0m\u001b[1;33m(\u001b[0m\u001b[0mpattern\u001b[0m\u001b[1;33m,\u001b[0m\u001b[0mphone\u001b[0m\u001b[1;33m)\u001b[0m\u001b[1;33m:\u001b[0m\u001b[1;33m\u001b[0m\u001b[1;33m\u001b[0m\u001b[0m\n\u001b[0;32m      6\u001b[0m         \u001b[1;32mreturn\u001b[0m \u001b[1;32mTrue\u001b[0m\u001b[1;33m\u001b[0m\u001b[1;33m\u001b[0m\u001b[0m\n",
      "\u001b[1;31mTypeError\u001b[0m: 'str' object is not callable"
     ]
    }
   ],
   "source": [
    "import re \n",
    "def phonenumbervalidate(phone):\n",
    "    pattern ='^[6-9][0-9]{9}$'\n",
    "    phone=str(phone)\n",
    "    if re.match1(pattern,phone):\n",
    "        return True\n",
    "    return False\n",
    "print(phonenumbervalidate(987654321))"
   ]
  },
  {
   "cell_type": "code",
   "execution_count": null,
   "metadata": {},
   "outputs": [],
   "source": []
  }
 ],
 "metadata": {
  "kernelspec": {
   "display_name": "Python 3",
   "language": "python",
   "name": "python3"
  },
  "language_info": {
   "codemirror_mode": {
    "name": "ipython",
    "version": 3
   },
   "file_extension": ".py",
   "mimetype": "text/x-python",
   "name": "python",
   "nbconvert_exporter": "python",
   "pygments_lexer": "ipython3",
   "version": "3.7.3"
  }
 },
 "nbformat": 4,
 "nbformat_minor": 2
}
